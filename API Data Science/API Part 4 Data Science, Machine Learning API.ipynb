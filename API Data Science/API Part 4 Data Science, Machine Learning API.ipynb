{
 "cells": [
  {
   "cell_type": "code",
   "execution_count": null,
   "metadata": {},
   "outputs": [
    {
     "name": "stdout",
     "output_type": "stream",
     "text": [
      " * Serving Flask app \"__main__\" (lazy loading)\n",
      " * Environment: production\n",
      "   WARNING: This is a development server. Do not use it in a production deployment.\n",
      "   Use a production WSGI server instead.\n",
      " * Debug mode: off\n"
     ]
    },
    {
     "name": "stderr",
     "output_type": "stream",
     "text": [
      " * Running on http://localhost:5000/ (Press CTRL+C to quit)\n",
      "127.0.0.1 - - [15/Oct/2023 20:54:03] \"\u001b[37mGET / HTTP/1.1\u001b[0m\" 200 -\n"
     ]
    }
   ],
   "source": [
    "#import os\n",
    "#import re\n",
    "#from nltk.tokenize import word_tokenize\n",
    "import pandas as pd\n",
    "#from sklearn.feature_extraction.text import CountVectorizer, TfidfVectorizer\n",
    "#from jcopml.utils import load_model\n",
    "import joblib\n",
    "from flask import Flask, render_template, request\n",
    "\n",
    "app = Flask(__name__)\n",
    "#model = load_model(\"model/svm_ricis\")  ##memanggil model\n",
    "model = joblib.load('model/model.pkl')\n",
    "\n",
    "@app.route(\"/\", methods=[\"GET\", \"POST\"])\n",
    "def index():\n",
    "    if request.method == \"GET\": #auto methods get\n",
    "        return render_template (\"upload.html\")  #menggunakan template html\n",
    "    elif request.method == \"POST\":     #form html menggunakan methode post saat submit\n",
    "        csv_file = request.files.get(\"file\")    #mengambil file dan dimasukan ke dalam variabel. upload sales.csv\n",
    "        x_test = pd.read_csv (csv_file)   # emngubal data menjadi dataframe\n",
    "        \n",
    "        x_test[\"pred\"] = model.predict(x_test)\n",
    "        \n",
    "        return x_test.to_html() # mengubah dataframe menjadi html dan ditampilkan kembali\n",
    "       \n",
    "    \n",
    "if __name__ == \"__main__\":\n",
    "    app.run(host=\"localhost\", port=\"5000\") "
   ]
  },
  {
   "cell_type": "code",
   "execution_count": null,
   "metadata": {},
   "outputs": [],
   "source": []
  }
 ],
 "metadata": {
  "kernelspec": {
   "display_name": "Python 3",
   "language": "python",
   "name": "python3"
  },
  "language_info": {
   "codemirror_mode": {
    "name": "ipython",
    "version": 3
   },
   "file_extension": ".py",
   "mimetype": "text/x-python",
   "name": "python",
   "nbconvert_exporter": "python",
   "pygments_lexer": "ipython3",
   "version": "3.8.5"
  }
 },
 "nbformat": 4,
 "nbformat_minor": 4
}
